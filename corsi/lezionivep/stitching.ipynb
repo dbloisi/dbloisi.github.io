{
  "nbformat": 4,
  "nbformat_minor": 0,
  "metadata": {
    "colab": {
      "name": "stitching.ipynb",
      "provenance": []
    },
    "kernelspec": {
      "name": "python3",
      "display_name": "Python 3"
    }
  },
  "cells": [
    {
      "cell_type": "code",
      "metadata": {
        "id": "lt7rwBqevIQm",
        "colab_type": "code",
        "colab": {
          "base_uri": "https://localhost:8080/",
          "height": 102
        },
        "outputId": "c857977e-b5dc-4e27-fd79-2e9ae1488535"
      },
      "source": [
        "import numpy as np\n",
        "import cv2 as cv\n",
        "import sys\n",
        " \n",
        "# read input images\n",
        "imgs = []\n",
        "for i in range(1,6):\n",
        "  img_name = \"Univ\" + str(i) + \".jpg\"\n",
        "  img = cv.imread(img_name)\n",
        "  if img is None:\n",
        "    print(\"can't read image \" + img_name)\n",
        "    sys.exit(-1)\n",
        "  else:\n",
        "    print(img_name + \" loaded\")\n",
        "    imgs.append(img)\n"
      ],
      "execution_count": 3,
      "outputs": [
        {
          "output_type": "stream",
          "text": [
            "Univ1.jpg loaded\n",
            "Univ2.jpg loaded\n",
            "Univ3.jpg loaded\n",
            "Univ4.jpg loaded\n",
            "Univ5.jpg loaded\n"
          ],
          "name": "stdout"
        }
      ]
    },
    {
      "cell_type": "code",
      "metadata": {
        "id": "qYHAXvR71eiJ",
        "colab_type": "code",
        "colab": {
          "base_uri": "https://localhost:8080/",
          "height": 34
        },
        "outputId": "305ba9e1-c7f0-4a2c-b0ec-039ae374c76b"
      },
      "source": [
        "stitcher = cv.Stitcher.create(cv.Stitcher_PANORAMA)\n",
        "\n",
        "status, pano = stitcher.stitch(imgs)\n",
        " \n",
        "if status != cv.Stitcher_OK:\n",
        "  print(\"Can't stitch images, error code = %d\" % status)\n",
        "  sys.exit(-1)\n",
        " \n",
        "cv.imwrite(\"panorama.jpg\", pano)\n",
        "\n",
        "print(\"stitching completed successfully.\")"
      ],
      "execution_count": 4,
      "outputs": [
        {
          "output_type": "stream",
          "text": [
            "stitching completed successfully.\n"
          ],
          "name": "stdout"
        }
      ]
    }
  ]
}